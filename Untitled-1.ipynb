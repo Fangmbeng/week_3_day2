{
 "cells": [
  {
   "attachments": {},
   "cell_type": "markdown",
   "metadata": {},
   "source": [
    "Exercise 1 - Turn the shopping cart program into an object-oriented program\n",
    "#Create a class called cart that retains items and has methods to add, remove, and show"
   ]
  },
  {
   "cell_type": "code",
   "execution_count": 1,
   "metadata": {},
   "outputs": [
    {
     "name": "stdout",
     "output_type": "stream",
     "text": [
      "Unrecognized Action\n",
      "Unrecognized Action\n"
     ]
    }
   ],
   "source": [
    "class cart:\n",
    "\n",
    "    def __init__(self, cart_1 = []):\n",
    "        self.cart_1 = cart_1\n",
    "\n",
    "    def add_item(self, item):\n",
    "        self.item = item\n",
    "        self.cart_1.append(self.item)\n",
    "        print(self.cart_1)\n",
    "        print(f\"{self.item} has been added to your shopping cart\")\n",
    "\n",
    "    def remove_item(self, item):\n",
    "        self.item = item\n",
    "        self.cart_1.remove(self.item)\n",
    "        try:\n",
    "            print(self.cart_1)\n",
    "            print(f\"{self.item} has been removed from your shopping cart\")\n",
    "\n",
    "        except:\n",
    "            print(self.cart)\n",
    "            print('Sorry we could not remove that item')\n",
    "\n",
    "    def show_cart(self):\n",
    "        print(self.cart_1)\n",
    "\n",
    "    def clear_cart(self):\n",
    "        self.cart.clear()\n",
    "        print(\"Your chart has been cleared\")\n",
    "\n",
    "    def main(self,):\n",
    "        while True:\n",
    "            action = input(\"Choose action:add, delete, quit, clear show chart: \").lower()\n",
    "            if action == \"quit\":\n",
    "                print(\"Thanks for shopping with us\")\n",
    "                break\n",
    "            elif action == \"add\":\n",
    "                self.item = input(\"What would you like to add: \").title()\n",
    "                self.cart_1.append(self.item)\n",
    "                print(self.cart_1)\n",
    "            elif action == \"remove\":\n",
    "                self.item = input(\"What would you like to add: \").title()\n",
    "                self.cart_1.remove(self.item)\n",
    "                print(self.cart_1)\n",
    "            elif action == \"show\":\n",
    "                print(self.cart_1)\n",
    "            elif action == \"clear\":\n",
    "                self.cart_1.clear()\n",
    "                print(self.cart_1)\n",
    "            else:\n",
    "                print(\"Unrecognized Action\")\n",
    "        return\n",
    "\n",
    "cart_1 = cart()\n",
    "cart_1.main()"
   ]
  },
  {
   "attachments": {},
   "cell_type": "markdown",
   "metadata": {},
   "source": [
    "Exercise 2 - Write a Python class for an Animal that has a name and energy attributes. The animal class should also have methods for eat, sleep, and play that will take in an integer and increase/decrease the energy of the animal with a formatted print statement\n",
    "#Example 1\n",
    "#buddy = Animal('Buddy', 10)\n",
    "#buddy.play(5) -> \"Buddy is playing for 5 minutes. His energy is now 5\"\n",
    "#buddy.sleep(10) -> \"Buddy is sleeping for 10 minutes. His energy is now 15\""
   ]
  },
  {
   "cell_type": "code",
   "execution_count": null,
   "metadata": {},
   "outputs": [],
   "source": [
    "class animals:\n",
    "\n",
    "    def __init__(self, name, energy):\n",
    "        self.name = name\n",
    "        self.energy = energy\n",
    "\n",
    "    def sleep(self, minutes):\n",
    "        self.minutes = minutes\n",
    "        self.total_energy = self.minutes + self.energy\n",
    "        print(f\"{self.name} is sleeping for {self.minutes} minutes. His energy is now {self.total_energy}\")\n",
    "\n",
    "\n",
    "\n",
    "    def play(self, minutes):\n",
    "        self.minutes = minutes\n",
    "        self.total_energy = self.minutes + self.energy\n",
    "        print(f'{self.name} is playing for {self.minutes} minutes. His energy is now {self.total_energy}')\n",
    "\n",
    "    def eat(self, calories):\n",
    "        self.calories = calories\n",
    "        self.total_calories = self.energy + self.calories\n",
    "        print(f\"{self.name} is eating {self.calories} calories. His energy increase {self.total_calories}\")\n",
    "\n",
    "buddy = animals('Buddy', 10)\n",
    "buddy.play(5)\n",
    "buddy.sleep(10)"
   ]
  }
 ],
 "metadata": {
  "kernelspec": {
   "display_name": "Python 3",
   "language": "python",
   "name": "python3"
  },
  "language_info": {
   "codemirror_mode": {
    "name": "ipython",
    "version": 3
   },
   "file_extension": ".py",
   "mimetype": "text/x-python",
   "name": "python",
   "nbconvert_exporter": "python",
   "pygments_lexer": "ipython3",
   "version": "3.9.1"
  },
  "orig_nbformat": 4,
  "vscode": {
   "interpreter": {
    "hash": "ffc532ed8a784cdfb8a39261f01be3d3895cee2e2b54e8698a7318bacbcb2147"
   }
  }
 },
 "nbformat": 4,
 "nbformat_minor": 2
}
